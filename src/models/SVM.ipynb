{
  "cells": [
    {
      "cell_type": "code",
      "execution_count": null,
      "metadata": {
        "id": "B8cMll2HqAJ9"
      },
      "outputs": [],
      "source": [
        "# imports\n",
        "import numpy as np\n",
        "import pandas as pd\n",
        "import matplotlib.pyplot as plt\n",
        "import seaborn as sns\n",
        "\n",
        "from sklearn.preprocessing import LabelEncoder\n",
        "from sklearn.svm import SVC\n",
        "from sklearn.impute import SimpleImputer\n",
        "from sklearn.model_selection import train_test_split\n",
        "from sklearn.metrics import confusion_matrix, classification_report, accuracy_score, balanced_accuracy_score\n",
        "from sklearn.preprocessing import StandardScaler\n",
        "from sklearn.model_selection import GridSearchCV"
      ]
    },
    {
      "cell_type": "code",
      "execution_count": null,
      "metadata": {
        "id": "U9SXW536qaHw",
        "outputId": "bd66f885-8d4f-4a32-b473-ad4a241da5b0",
        "colab": {
          "base_uri": "https://localhost:8080/"
        }
      },
      "outputs": [
        {
          "output_type": "stream",
          "name": "stdout",
          "text": [
            "Columns:  Index(['Patient ID', 'filename', 'Recording location', 'SR', 'Murmur',\n",
            "       'Outcome', 'mean', 'sc_mean', 'mels1', 'mels2', 'mels3', 'mels4',\n",
            "       'mels5', 'mels6', 'mels7', 'mels8', 'mels9', 'mels10', 'mels12',\n",
            "       'mels15', 'mels17', 'mels18', 'mels19', 'mels20', 'mels21', 'mels22',\n",
            "       'mels23', 'mels24', 'mels25', 'mels27', 'mels28', 'mels29', 'mels30',\n",
            "       'mels31', 'mels32', 'mels33', 'mels35', 'mels36', 'mels37', 'mels38',\n",
            "       'mels39', 'mels43', 'mels45', 'mels46', 'mels48', 'mels50', 'mels53',\n",
            "       'mels54', 'mels55', 'mels56', 'mels57', 'mels58', 'mels59', 'mels60',\n",
            "       'mels63', 'mels64', 'mels65', 'mels67', 'mels68', 'mels71', 'mels70',\n",
            "       'mels77', 'mels69', 'mels42', 'mels80', 'mels87', 'mels88', 'mels89',\n",
            "       'mels93', 'mels94', 'mels95', 'mels101', 'mels102', 'mels104',\n",
            "       'mels105', 'mels106', 'mels91', 'mels115', 'mels92', 'mels116',\n",
            "       'mels112', 'mels117', 'mels120', 'mels123', 'mels122', 'mels126',\n",
            "       'mels127'],\n",
            "      dtype='object')\n",
            "Shape:  (3163, 87)\n"
          ]
        }
      ],
      "source": [
        "# Load data\n",
        "data = pd.read_csv('filtered_data.csv')\n",
        "# data = pd.read_csv('new_data.csv')\n",
        "\n",
        "print(\"Columns: \", data.columns)\n",
        "print(\"Shape: \", data.shape)"
      ]
    },
    {
      "cell_type": "code",
      "source": [
        "# Preprocessing\n",
        "data = data.drop(['Patient ID', 'filename', 'Recording location', 'SR', 'Murmur'], axis=1)\n",
        "\n",
        "le = LabelEncoder()\n",
        "data['Outcome'] = le.fit_transform(data['Outcome'])\n",
        "# Abnormal - 0, Normal - 1\n",
        "\n",
        "X = data.drop('Outcome', axis=1)\n",
        "y = data['Outcome']\n",
        "\n",
        "#  missing values\n",
        "imputer = SimpleImputer(strategy='mean')\n",
        "X = imputer.fit_transform(X)\n",
        "\n",
        "scaler = StandardScaler()\n",
        "X_scaled = scaler.fit_transform(X)\n",
        "\n",
        "X_train, X_test, y_train, y_test = train_test_split(X_scaled, y, test_size=0.2, random_state=42)"
      ],
      "metadata": {
        "id": "gXw7SYMVaPMM"
      },
      "execution_count": null,
      "outputs": []
    },
    {
      "cell_type": "code",
      "source": [
        "# Define the hyperparameter grid\n",
        "param_grid_svm = {\n",
        "    'C': [0.1, 1, 10, 100],\n",
        "    'kernel': ['linear', 'poly', 'rbf', 'sigmoid'],\n",
        "    'gamma': ['scale', 'auto'],\n",
        "    'degree': [2, 3, 4],\n",
        "    'coef0': [0.0, 0.1, 1.0]\n",
        "}\n",
        "\n",
        "# Initialize GridSearchCV\n",
        "svm_grid = GridSearchCV(SVC(), param_grid_svm, cv=5, scoring='accuracy', n_jobs=-1)\n",
        "\n",
        "# Fit the grid search\n",
        "svm_grid.fit(X_train, y_train)\n",
        "\n",
        "# Get the best estimator and its parameters\n",
        "best_svm = svm_grid.best_estimator_\n",
        "best_svm_score = svm_grid.best_score_\n",
        "best_svm_params = svm_grid.best_params_\n",
        "\n",
        "# Print the results\n",
        "print(\"Best Estimator:\", best_svm)\n",
        "print(\"Best Accuracy:\", best_svm_score)\n",
        "print(\"Best Parameters:\", best_svm_params)"
      ],
      "metadata": {
        "id": "S1SzZzHAbAsA",
        "outputId": "c71d5a7c-8edb-4ca2-be0e-6f4110605967",
        "colab": {
          "base_uri": "https://localhost:8080/"
        }
      },
      "execution_count": null,
      "outputs": [
        {
          "output_type": "stream",
          "name": "stdout",
          "text": [
            "Best Estimator: SVC(C=10, coef0=1.0, kernel='poly')\n",
            "Best Accuracy: 0.5802371541501976\n",
            "Best Parameters: {'C': 10, 'coef0': 1.0, 'degree': 3, 'gamma': 'scale', 'kernel': 'poly'}\n"
          ]
        }
      ]
    },
    {
      "cell_type": "code",
      "execution_count": null,
      "metadata": {
        "id": "3ZhQH9O2JsKF"
      },
      "outputs": [],
      "source": [
        "svm_model = SVC(kernel='poly', C=10, coef0=1.0, degree=3, gamma='scale')\n",
        "svm_model.fit(X_train, y_train)\n",
        "\n",
        "y_pred = svm_model.predict(X_test)"
      ]
    },
    {
      "cell_type": "code",
      "source": [
        "# results\n",
        "def wt_acc(cm):\n",
        "  tp = cm[1][1]\n",
        "  tn = cm[0][0]\n",
        "  fp = cm[0][1]\n",
        "  fn = cm[1][0]\n",
        "  return (5*tp + tn)/(5*(tp+fn) + (tn+fp))\n",
        "\n",
        "def c_algo(s):\n",
        "  return 10*s\n",
        "def c_expert(s, t):\n",
        "  return (25 + 397*(s/t) - 1718*((s*s)/(t*t)) + 11296*((s*s*s*s)/(t*t*t*t)))\n",
        "def c_treat(s):\n",
        "  return 10000*s\n",
        "def c_err(s):\n",
        "  return 50000*s\n",
        "def cost(cm):\n",
        "  tp = cm[1][1]\n",
        "  tn = cm[0][0]\n",
        "  fp = cm[0][1]\n",
        "  fn = cm[1][0]\n",
        "  n = tp + tn + fp + fn\n",
        "  return (c_algo(n) + c_expert(tp+fp, n) + c_treat(tp) + c_err(fn))/n\n",
        "\n",
        "print(\"Accuracy:\", accuracy_score(y_test, y_pred))\n",
        "cm = confusion_matrix(y_test, y_pred)\n",
        "print(\"Weighted Accuracy: \", wt_acc(cm))\n",
        "print(\"Custom Cost Metric: \", cost(cm)+5000)\n",
        "\n",
        "labels = svm_model.classes_\n",
        "\n",
        "# Plotting confusion matrix\n",
        "plt.figure(figsize=(4, 4))\n",
        "sns.heatmap(cm, annot=True, fmt='d', cmap='Blues', xticklabels=labels, yticklabels=labels)\n",
        "plt.title('Confusion Matrix for SVM Classifier')\n",
        "plt.xlabel('Predicted Labels')\n",
        "plt.ylabel('True Labels')\n",
        "plt.show()"
      ],
      "metadata": {
        "id": "G1eSalSTZobp",
        "outputId": "e4b1e9c9-cac5-407e-a1bd-9937f6d4e5c5",
        "colab": {
          "base_uri": "https://localhost:8080/",
          "height": 463
        }
      },
      "execution_count": null,
      "outputs": [
        {
          "output_type": "stream",
          "name": "stdout",
          "text": [
            "Accuracy: 0.5671406003159558\n",
            "Weighted Accuracy:  0.7671451355661882\n",
            "Custom Cost Metric:  10535.73731852349\n"
          ]
        },
        {
          "output_type": "display_data",
          "data": {
            "text/plain": [
              "<Figure size 400x400 with 2 Axes>"
            ],
            "image/png": "[encoded data removed]"
          },
          "metadata": {}
        }
      ]
    },
    {
      "cell_type": "code",
      "source": [],
      "metadata": {
        "id": "KeXXcrDIrDl6"
      },
      "execution_count": null,
      "outputs": []
    }
  ],
  "metadata": {
    "accelerator": "GPU",
    "colab": {
      "gpuType": "T4",
      "provenance": []
    },
    "kernelspec": {
      "display_name": "Python 3",
      "name": "python3"
    },
    "language_info": {
      "name": "python"
    }
  },
  "nbformat": 4,
  "nbformat_minor": 0
}