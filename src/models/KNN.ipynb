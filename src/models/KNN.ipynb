{
  "nbformat": 4,
  "nbformat_minor": 0,
  "metadata": {
    "colab": {
      "provenance": [],
      "gpuType": "T4"
    },
    "kernelspec": {
      "name": "python3",
      "display_name": "Python 3"
    },
    "language_info": {
      "name": "python"
    },
    "accelerator": "GPU"
  },
  "cells": [
    {
      "cell_type": "code",
      "source": [
        "# Imports\n",
        "import matplotlib.pyplot as plt\n",
        "from sklearn.metrics import confusion_matrix\n",
        "import seaborn as sns\n",
        "\n",
        "import pandas as pd\n",
        "from sklearn.preprocessing import LabelEncoder\n",
        "from sklearn.impute import SimpleImputer\n",
        "from sklearn.preprocessing import StandardScaler\n",
        "from sklearn.model_selection import train_test_split\n",
        "from sklearn.neighbors import KNeighborsClassifier\n",
        "from sklearn.metrics import accuracy_score, f1_score, precision_score, recall_score, balanced_accuracy_score, classification_report\n",
        "from sklearn.model_selection import GridSearchCV"
      ],
      "metadata": {
        "id": "6t1tCZHQVY6a"
      },
      "execution_count": 30,
      "outputs": []
    },
    {
      "cell_type": "code",
      "source": [
        "# Load data\n",
        "\n",
        "data = pd.read_csv('filtered_data.csv')\n",
        "# data = pd.read_csv('new_data.csv')\n",
        "\n",
        "print(\"Columns: \", data.columns)\n",
        "print(\"Shape: \", data.shape)"
      ],
      "metadata": {
        "colab": {
          "base_uri": "https://localhost:8080/"
        },
        "id": "ZnCzPAGTVp2D",
        "outputId": "373a718c-c2f8-4abf-b6aa-69741158d357"
      },
      "execution_count": 31,
      "outputs": [
        {
          "output_type": "stream",
          "name": "stdout",
          "text": [
            "Columns:  Index(['Patient ID', 'filename', 'Recording location', 'SR', 'Murmur',\n",
            "       'Outcome', 'mean', 'sc_mean', 'mels1', 'mels2', 'mels3', 'mels4',\n",
            "       'mels5', 'mels6', 'mels7', 'mels8', 'mels9', 'mels10', 'mels12',\n",
            "       'mels15', 'mels17', 'mels18', 'mels19', 'mels20', 'mels21', 'mels22',\n",
            "       'mels23', 'mels24', 'mels25', 'mels27', 'mels28', 'mels29', 'mels30',\n",
            "       'mels31', 'mels32', 'mels33', 'mels35', 'mels36', 'mels37', 'mels38',\n",
            "       'mels39', 'mels43', 'mels45', 'mels46', 'mels48', 'mels50', 'mels53',\n",
            "       'mels54', 'mels55', 'mels56', 'mels57', 'mels58', 'mels59', 'mels60',\n",
            "       'mels63', 'mels64', 'mels65', 'mels67', 'mels68', 'mels71', 'mels70',\n",
            "       'mels77', 'mels69', 'mels42', 'mels80', 'mels87', 'mels88', 'mels89',\n",
            "       'mels93', 'mels94', 'mels95', 'mels101', 'mels102', 'mels104',\n",
            "       'mels105', 'mels106', 'mels91', 'mels115', 'mels92', 'mels116',\n",
            "       'mels112', 'mels117', 'mels120', 'mels123', 'mels122', 'mels126',\n",
            "       'mels127'],\n",
            "      dtype='object')\n",
            "Shape:  (3163, 87)\n"
          ]
        }
      ]
    },
    {
      "cell_type": "code",
      "source": [
        "# Preprocessing\n",
        "data = data.drop(['Patient ID', 'filename', 'Recording location', 'SR', 'Murmur'], axis=1)\n",
        "\n",
        "le = LabelEncoder()\n",
        "data['Outcome'] = le.fit_transform(data['Outcome'])\n",
        "# Abnormal - 0, Normal - 1\n",
        "\n",
        "X = data.drop('Outcome', axis=1)\n",
        "y = data['Outcome']\n",
        "\n",
        "#  missing values\n",
        "imputer = SimpleImputer(strategy='mean')\n",
        "X = imputer.fit_transform(X)\n",
        "\n",
        "scaler = StandardScaler()\n",
        "X_scaled = scaler.fit_transform(X)\n",
        "\n",
        "X_train, X_test, y_train, y_test = train_test_split(X_scaled, y, test_size=0.2, random_state=42)"
      ],
      "metadata": {
        "id": "7aWluKLHX_ru"
      },
      "execution_count": 32,
      "outputs": []
    },
    {
      "cell_type": "code",
      "source": [
        "# Define the hyperparameter grid\n",
        "param_grid = {\n",
        "    'n_neighbors': range(1, 101),\n",
        "    'metric': ['euclidean', 'manhattan', 'chebyshev', 'minkowski'],\n",
        "    'weights': ['uniform', 'distance']\n",
        "}\n",
        "\n",
        "# Initialize GridSearchCV\n",
        "knn_grid = GridSearchCV(KNeighborsClassifier(), param_grid, cv=5, scoring='accuracy', n_jobs=-1)\n",
        "\n",
        "# Fit the grid search\n",
        "knn_grid.fit(X_train, y_train)\n",
        "\n",
        "# Get the best estimator and its parameters\n",
        "best_knn = knn_grid.best_estimator_\n",
        "best_knn_score = knn_grid.best_score_\n",
        "best_knn_params = knn_grid.best_params_\n",
        "\n",
        "# Print the results\n",
        "print(\"Best Estimator:\", best_knn)\n",
        "print(\"Best Accuracy:\", best_knn_score)\n",
        "print(\"Best Parameters:\", best_knn_params)\n"
      ],
      "metadata": {
        "colab": {
          "base_uri": "https://localhost:8080/"
        },
        "id": "hxHo_QF15YFV",
        "outputId": "5da96d1d-bf46-4266-a965-1c2b78ca0457"
      },
      "execution_count": 33,
      "outputs": [
        {
          "output_type": "stream",
          "name": "stdout",
          "text": [
            "Best Estimator: KNeighborsClassifier(metric='manhattan', n_neighbors=79, weights='distance')\n",
            "Best Accuracy: 0.5754940711462451\n",
            "Best Parameters: {'metric': 'manhattan', 'n_neighbors': 79, 'weights': 'distance'}\n"
          ]
        }
      ]
    },
    {
      "cell_type": "code",
      "execution_count": 40,
      "metadata": {
        "id": "lf6_-SAD3kbw"
      },
      "outputs": [],
      "source": [
        "knn = KNeighborsClassifier(n_neighbors=79, metric='manhattan', weights='distance')\n",
        "knn.fit(X_train, y_train)\n",
        "\n",
        "y_pred = knn.predict(X_test)"
      ]
    },
    {
      "cell_type": "code",
      "source": [
        "def wt_acc(cm):\n",
        "  tp = cm[1][1]\n",
        "  tn = cm[0][0]\n",
        "  fp = cm[0][1]\n",
        "  fn = cm[1][0]\n",
        "  return (5*tp + tn)/(5*(tp+fn) + (tn+fp))"
      ],
      "metadata": {
        "id": "ynlQrEf6QWmo"
      },
      "execution_count": 41,
      "outputs": []
    },
    {
      "cell_type": "code",
      "source": [
        "def c_algo(s):\n",
        "  return 10*s\n",
        "def c_expert(s, t):\n",
        "  return (25 + 397*(s/t) - 1718*((s*s)/(t*t)) + 11296*((s*s*s*s)/(t*t*t*t)))\n",
        "def c_treat(s):\n",
        "  return 10000*s\n",
        "def c_err(s):\n",
        "  return 50000*s\n",
        "\n",
        "def cost(cm):\n",
        "  tp = cm[1][1]\n",
        "  tn = cm[0][0]\n",
        "  fp = cm[0][1]\n",
        "  fn = cm[1][0]\n",
        "  n = tp + tn + fp + fn\n",
        "  return (c_algo(n) + c_expert(tp+fp, n) + c_treat(tp) + c_err(fn))/n"
      ],
      "metadata": {
        "id": "x14cL56YQe1Y"
      },
      "execution_count": 42,
      "outputs": []
    },
    {
      "cell_type": "code",
      "source": [
        "print(\"Accuracy:\", accuracy_score(y_test, y_pred))\n",
        "cm = confusion_matrix(y_test, y_pred)\n",
        "print(\"Weighted Accuracy: \", wt_acc(cm))\n",
        "print(\"Custom Cost Metric: \", cost(cm))\n",
        "\n",
        "labels = knn.classes_\n",
        "\n",
        "# Plotting confusion matrix\n",
        "plt.figure(figsize=(4, 4))\n",
        "sns.heatmap(cm, annot=True, fmt='d', cmap='Blues', xticklabels=labels, yticklabels=labels)\n",
        "plt.title('Confusion Matrix for KNN Classifier')\n",
        "plt.xlabel('Predicted Labels')\n",
        "plt.ylabel('True Labels')\n",
        "plt.show()"
      ],
      "metadata": {
        "colab": {
          "base_uri": "https://localhost:8080/",
          "height": 463
        },
        "id": "CMEO5DzF6isb",
        "outputId": "30075221-59d4-4ed3-d1bf-c7cf723613c7"
      },
      "execution_count": 44,
      "outputs": [
        {
          "output_type": "stream",
          "name": "stdout",
          "text": [
            "Accuracy: 0.5624012638230648\n",
            "Weighted Accuracy:  0.682615629984051\n",
            "Custom Cost Metric:  12997.184900693968\n"
          ]
        },
        {
          "output_type": "display_data",
          "data": {
            "text/plain": [
              "<Figure size 400x400 with 2 Axes>"
            ],
            "image/png": "[encoded data removed]"
          },
          "metadata": {}
        }
      ]
    }
  ]
}